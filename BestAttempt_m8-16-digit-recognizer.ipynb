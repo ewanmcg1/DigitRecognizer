{
 "cells": [
  {
   "cell_type": "code",
   "execution_count": 1,
   "id": "e75bc578",
   "metadata": {
    "execution": {
     "iopub.execute_input": "2024-11-20T20:17:51.961091Z",
     "iopub.status.busy": "2024-11-20T20:17:51.960762Z",
     "iopub.status.idle": "2024-11-20T20:18:05.329857Z",
     "shell.execute_reply": "2024-11-20T20:18:05.329145Z"
    },
    "papermill": {
     "duration": 13.377058,
     "end_time": "2024-11-20T20:18:05.331910",
     "exception": false,
     "start_time": "2024-11-20T20:17:51.954852",
     "status": "completed"
    },
    "tags": []
   },
   "outputs": [],
   "source": [
    "import pandas as pd\n",
    "import numpy as np\n",
    "import matplotlib.pyplot as plt\n",
    "import matplotlib.image as mpimg\n",
    "import seaborn as sns\n",
    "%matplotlib inline\n",
    "\n",
    "np.random.seed(2)\n",
    "\n",
    "from sklearn.model_selection import train_test_split\n",
    "from sklearn.metrics import confusion_matrix\n",
    "import itertools\n",
    "\n",
    "from tensorflow.keras.utils import to_categorical\n",
    "from tensorflow.keras.models import Sequential\n",
    "from tensorflow.keras.layers import Dense, Dropout, Flatten, Conv2D, MaxPool2D\n",
    "from tensorflow.keras.optimizers import RMSprop\n",
    "from tensorflow.keras.preprocessing.image import ImageDataGenerator\n",
    "from tensorflow.keras.callbacks import ReduceLROnPlateau\n",
    "\n",
    "\n",
    "sns.set(style='white', context='notebook', palette='deep')"
   ]
  },
  {
   "cell_type": "code",
   "execution_count": 2,
   "id": "ddaf08b8",
   "metadata": {
    "execution": {
     "iopub.execute_input": "2024-11-20T20:18:05.342077Z",
     "iopub.status.busy": "2024-11-20T20:18:05.341253Z",
     "iopub.status.idle": "2024-11-20T20:18:09.962544Z",
     "shell.execute_reply": "2024-11-20T20:18:09.961867Z"
    },
    "papermill": {
     "duration": 4.628175,
     "end_time": "2024-11-20T20:18:09.964544",
     "exception": false,
     "start_time": "2024-11-20T20:18:05.336369",
     "status": "completed"
    },
    "tags": []
   },
   "outputs": [],
   "source": [
    "#Load the data\n",
    "train = pd.read_csv(\"/kaggle/input/digit-recognizer/train.csv\")\n",
    "test = pd.read_csv(\"/kaggle/input/digit-recognizer/test.csv\")"
   ]
  },
  {
   "cell_type": "code",
   "execution_count": 3,
   "id": "f576cd34",
   "metadata": {
    "execution": {
     "iopub.execute_input": "2024-11-20T20:18:09.973882Z",
     "iopub.status.busy": "2024-11-20T20:18:09.973375Z",
     "iopub.status.idle": "2024-11-20T20:18:10.227387Z",
     "shell.execute_reply": "2024-11-20T20:18:10.226157Z"
    },
    "papermill": {
     "duration": 0.261759,
     "end_time": "2024-11-20T20:18:10.230472",
     "exception": false,
     "start_time": "2024-11-20T20:18:09.968713",
     "status": "completed"
    },
    "tags": []
   },
   "outputs": [
    {
     "data": {
      "text/plain": [
       "label\n",
       "1    4684\n",
       "7    4401\n",
       "3    4351\n",
       "9    4188\n",
       "2    4177\n",
       "6    4137\n",
       "0    4132\n",
       "4    4072\n",
       "8    4063\n",
       "5    3795\n",
       "Name: count, dtype: int64"
      ]
     },
     "execution_count": 3,
     "metadata": {},
     "output_type": "execute_result"
    },
    {
     "data": {
      "image/png": "[encoded data removed]",
      "text/plain": [
       "<Figure size 640x480 with 1 Axes>"
      ]
     },
     "metadata": {},
     "output_type": "display_data"
    }
   ],
   "source": [
    "Y_train = train[\"label\"]\n",
    "\n",
    "# Drop 'label' column\n",
    "X_train = train.drop(labels = [\"label\"],axis = 1) \n",
    "\n",
    "# free some space\n",
    "del train \n",
    "\n",
    "g = sns.countplot(Y_train)\n",
    "\n",
    "Y_train.value_counts()"
   ]
  },
  {
   "cell_type": "code",
   "execution_count": 4,
   "id": "4b951b09",
   "metadata": {
    "execution": {
     "iopub.execute_input": "2024-11-20T20:18:10.252897Z",
     "iopub.status.busy": "2024-11-20T20:18:10.252104Z",
     "iopub.status.idle": "2024-11-20T20:18:10.268584Z",
     "shell.execute_reply": "2024-11-20T20:18:10.267760Z"
    },
    "papermill": {
     "duration": 0.025684,
     "end_time": "2024-11-20T20:18:10.270237",
     "exception": false,
     "start_time": "2024-11-20T20:18:10.244553",
     "status": "completed"
    },
    "tags": []
   },
   "outputs": [
    {
     "data": {
      "text/plain": [
       "count       784\n",
       "unique        1\n",
       "top       False\n",
       "freq        784\n",
       "dtype: object"
      ]
     },
     "execution_count": 4,
     "metadata": {},
     "output_type": "execute_result"
    }
   ],
   "source": [
    "# Check the data\n",
    "X_train.isnull().any().describe()"
   ]
  },
  {
   "cell_type": "code",
   "execution_count": 5,
   "id": "d045ac15",
   "metadata": {
    "execution": {
     "iopub.execute_input": "2024-11-20T20:18:10.280078Z",
     "iopub.status.busy": "2024-11-20T20:18:10.279807Z",
     "iopub.status.idle": "2024-11-20T20:18:10.291056Z",
     "shell.execute_reply": "2024-11-20T20:18:10.290168Z"
    },
    "papermill": {
     "duration": 0.017899,
     "end_time": "2024-11-20T20:18:10.292714",
     "exception": false,
     "start_time": "2024-11-20T20:18:10.274815",
     "status": "completed"
    },
    "tags": []
   },
   "outputs": [
    {
     "data": {
      "text/plain": [
       "count       784\n",
       "unique        1\n",
       "top       False\n",
       "freq        784\n",
       "dtype: object"
      ]
     },
     "execution_count": 5,
     "metadata": {},
     "output_type": "execute_result"
    }
   ],
   "source": [
    "test.isnull().any().describe()"
   ]
  },
  {
   "cell_type": "code",
   "execution_count": 6,
   "id": "6185625b",
   "metadata": {
    "execution": {
     "iopub.execute_input": "2024-11-20T20:18:10.302725Z",
     "iopub.status.busy": "2024-11-20T20:18:10.302220Z",
     "iopub.status.idle": "2024-11-20T20:18:10.392123Z",
     "shell.execute_reply": "2024-11-20T20:18:10.391334Z"
    },
    "papermill": {
     "duration": 0.096916,
     "end_time": "2024-11-20T20:18:10.394010",
     "exception": false,
     "start_time": "2024-11-20T20:18:10.297094",
     "status": "completed"
    },
    "tags": []
   },
   "outputs": [],
   "source": [
    "# Normalize the data\n",
    "X_train = X_train / 255.0\n",
    "test = test / 255.0"
   ]
  },
  {
   "cell_type": "code",
   "execution_count": 7,
   "id": "2d94ab73",
   "metadata": {
    "execution": {
     "iopub.execute_input": "2024-11-20T20:18:10.404617Z",
     "iopub.status.busy": "2024-11-20T20:18:10.404350Z",
     "iopub.status.idle": "2024-11-20T20:18:10.408443Z",
     "shell.execute_reply": "2024-11-20T20:18:10.407756Z"
    },
    "papermill": {
     "duration": 0.011243,
     "end_time": "2024-11-20T20:18:10.410121",
     "exception": false,
     "start_time": "2024-11-20T20:18:10.398878",
     "status": "completed"
    },
    "tags": []
   },
   "outputs": [],
   "source": [
    "# Reshape image in 3 dimensions (height = 28px, width = 28px , canal = 1)\n",
    "X_train = X_train.values.reshape(-1,28,28,1)\n",
    "test = test.values.reshape(-1,28,28,1)"
   ]
  },
  {
   "cell_type": "code",
   "execution_count": 8,
   "id": "3c209392",
   "metadata": {
    "execution": {
     "iopub.execute_input": "2024-11-20T20:18:10.419722Z",
     "iopub.status.busy": "2024-11-20T20:18:10.419447Z",
     "iopub.status.idle": "2024-11-20T20:18:10.424449Z",
     "shell.execute_reply": "2024-11-20T20:18:10.423908Z"
    },
    "papermill": {
     "duration": 0.011443,
     "end_time": "2024-11-20T20:18:10.425903",
     "exception": false,
     "start_time": "2024-11-20T20:18:10.414460",
     "status": "completed"
    },
    "tags": []
   },
   "outputs": [],
   "source": [
    "# Encode labels to one hot vectors (ex : 2 -> [0,0,1,0,0,0,0,0,0,0])\n",
    "Y_train = to_categorical(Y_train, num_classes = 10)"
   ]
  },
  {
   "cell_type": "code",
   "execution_count": 9,
   "id": "2b91e30c",
   "metadata": {
    "execution": {
     "iopub.execute_input": "2024-11-20T20:18:10.435418Z",
     "iopub.status.busy": "2024-11-20T20:18:10.435190Z",
     "iopub.status.idle": "2024-11-20T20:18:10.438428Z",
     "shell.execute_reply": "2024-11-20T20:18:10.437792Z"
    },
    "papermill": {
     "duration": 0.009877,
     "end_time": "2024-11-20T20:18:10.440027",
     "exception": false,
     "start_time": "2024-11-20T20:18:10.430150",
     "status": "completed"
    },
    "tags": []
   },
   "outputs": [],
   "source": [
    "# Set the random seed\n",
    "random_seed = 2"
   ]
  },
  {
   "cell_type": "code",
   "execution_count": 10,
   "id": "06ea27e1",
   "metadata": {
    "execution": {
     "iopub.execute_input": "2024-11-20T20:18:10.449277Z",
     "iopub.status.busy": "2024-11-20T20:18:10.449061Z",
     "iopub.status.idle": "2024-11-20T20:18:10.831707Z",
     "shell.execute_reply": "2024-11-20T20:18:10.831021Z"
    },
    "papermill": {
     "duration": 0.389403,
     "end_time": "2024-11-20T20:18:10.833631",
     "exception": false,
     "start_time": "2024-11-20T20:18:10.444228",
     "status": "completed"
    },
    "tags": []
   },
   "outputs": [],
   "source": [
    "# Split the train and the validation set for the fitting\n",
    "X_train, X_val, Y_train, Y_val = train_test_split(X_train, Y_train, test_size = 0.1, random_state=random_seed)"
   ]
  },
  {
   "cell_type": "code",
   "execution_count": 11,
   "id": "15abe643",
   "metadata": {
    "execution": {
     "iopub.execute_input": "2024-11-20T20:18:10.843505Z",
     "iopub.status.busy": "2024-11-20T20:18:10.843260Z",
     "iopub.status.idle": "2024-11-20T20:18:11.117665Z",
     "shell.execute_reply": "2024-11-20T20:18:11.116923Z"
    },
    "papermill": {
     "duration": 0.28122,
     "end_time": "2024-11-20T20:18:11.119424",
     "exception": false,
     "start_time": "2024-11-20T20:18:10.838204",
     "status": "completed"
    },
    "tags": []
   },
   "outputs": [
    {
     "data": {
      "image/png": "[encoded data removed]",
      "text/plain": [
       "<Figure size 640x480 with 1 Axes>"
      ]
     },
     "metadata": {},
     "output_type": "display_data"
    }
   ],
   "source": [
    "# Some examples\n",
    "g = plt.imshow(X_train[0][:,:,0])"
   ]
  },
  {
   "cell_type": "code",
   "execution_count": 12,
   "id": "e06c68e2",
   "metadata": {
    "execution": {
     "iopub.execute_input": "2024-11-20T20:18:11.130119Z",
     "iopub.status.busy": "2024-11-20T20:18:11.129835Z",
     "iopub.status.idle": "2024-11-20T20:18:11.969016Z",
     "shell.execute_reply": "2024-11-20T20:18:11.968134Z"
    },
    "papermill": {
     "duration": 0.847065,
     "end_time": "2024-11-20T20:18:11.971195",
     "exception": false,
     "start_time": "2024-11-20T20:18:11.124130",
     "status": "completed"
    },
    "tags": []
   },
   "outputs": [
    {
     "name": "stderr",
     "output_type": "stream",
     "text": [
      "/opt/conda/lib/python3.10/site-packages/keras/src/layers/convolutional/base_conv.py:107: UserWarning: Do not pass an `input_shape`/`input_dim` argument to a layer. When using Sequential models, prefer using an `Input(shape)` object as the first layer in the model instead.\n",
      "  super().__init__(activity_regularizer=activity_regularizer, **kwargs)\n"
     ]
    }
   ],
   "source": [
    "# Set the CNN model \n",
    "# my CNN architechture is In -> [[Conv2D->relu]*2 -> MaxPool2D -> Dropout]*2 -> Flatten -> Dense -> Dropout -> Out\n",
    "\n",
    "model = Sequential()\n",
    "\n",
    "model.add(Conv2D(filters = 32, kernel_size = (5,5),padding = 'Same', \n",
    "                 activation ='relu', input_shape = (28,28,1)))\n",
    "model.add(Conv2D(filters = 32, kernel_size = (5,5),padding = 'Same', \n",
    "                 activation ='relu'))\n",
    "model.add(MaxPool2D(pool_size=(2,2)))\n",
    "model.add(Dropout(0.25))\n",
    "\n",
    "\n",
    "model.add(Conv2D(filters = 64, kernel_size = (3,3),padding = 'Same', \n",
    "                 activation ='relu'))\n",
    "model.add(Conv2D(filters = 64, kernel_size = (3,3),padding = 'Same', \n",
    "                 activation ='relu'))\n",
    "model.add(MaxPool2D(pool_size=(2,2), strides=(2,2)))\n",
    "model.add(Dropout(0.25))\n",
    "\n",
    "\n",
    "model.add(Flatten())\n",
    "model.add(Dense(256, activation = \"relu\"))\n",
    "model.add(Dropout(0.5))\n",
    "model.add(Dense(10, activation = \"softmax\"))"
   ]
  },
  {
   "cell_type": "code",
   "execution_count": 13,
   "id": "22ec2f44",
   "metadata": {
    "execution": {
     "iopub.execute_input": "2024-11-20T20:18:11.982315Z",
     "iopub.status.busy": "2024-11-20T20:18:11.982039Z",
     "iopub.status.idle": "2024-11-20T20:18:11.991622Z",
     "shell.execute_reply": "2024-11-20T20:18:11.990730Z"
    },
    "papermill": {
     "duration": 0.016426,
     "end_time": "2024-11-20T20:18:11.993220",
     "exception": false,
     "start_time": "2024-11-20T20:18:11.976794",
     "status": "completed"
    },
    "tags": []
   },
   "outputs": [
    {
     "name": "stderr",
     "output_type": "stream",
     "text": [
      "/opt/conda/lib/python3.10/site-packages/keras/src/optimizers/base_optimizer.py:33: UserWarning: Argument `decay` is no longer supported and will be ignored.\n",
      "  warnings.warn(\n"
     ]
    }
   ],
   "source": [
    "# Define the optimizer\n",
    "optimizer = RMSprop(learning_rate=0.001, rho=0.9, epsilon=1e-08, decay=0.0)"
   ]
  },
  {
   "cell_type": "code",
   "execution_count": 14,
   "id": "b2ecae39",
   "metadata": {
    "execution": {
     "iopub.execute_input": "2024-11-20T20:18:12.003518Z",
     "iopub.status.busy": "2024-11-20T20:18:12.003285Z",
     "iopub.status.idle": "2024-11-20T20:18:12.009602Z",
     "shell.execute_reply": "2024-11-20T20:18:12.009025Z"
    },
    "papermill": {
     "duration": 0.013412,
     "end_time": "2024-11-20T20:18:12.011189",
     "exception": false,
     "start_time": "2024-11-20T20:18:11.997777",
     "status": "completed"
    },
    "tags": []
   },
   "outputs": [],
   "source": [
    "# Compile the model\n",
    "model.compile(optimizer = optimizer , loss = \"categorical_crossentropy\", metrics=[\"accuracy\"])"
   ]
  },
  {
   "cell_type": "code",
   "execution_count": 15,
   "id": "01850668",
   "metadata": {
    "execution": {
     "iopub.execute_input": "2024-11-20T20:18:12.021365Z",
     "iopub.status.busy": "2024-11-20T20:18:12.021137Z",
     "iopub.status.idle": "2024-11-20T20:18:12.024661Z",
     "shell.execute_reply": "2024-11-20T20:18:12.023974Z"
    },
    "papermill": {
     "duration": 0.010495,
     "end_time": "2024-11-20T20:18:12.026267",
     "exception": false,
     "start_time": "2024-11-20T20:18:12.015772",
     "status": "completed"
    },
    "tags": []
   },
   "outputs": [],
   "source": [
    "# Set a learning rate annealer\n",
    "\n",
    "learning_rate_reduction = ReduceLROnPlateau(monitor=\"val_loss\", \n",
    "                                            patience=3, \n",
    "                                            verbose=1, \n",
    "                                            factor=0.5, \n",
    "                                            min_lr=0.00001)"
   ]
  },
  {
   "cell_type": "code",
   "execution_count": 16,
   "id": "8fb68449",
   "metadata": {
    "execution": {
     "iopub.execute_input": "2024-11-20T20:18:12.036120Z",
     "iopub.status.busy": "2024-11-20T20:18:12.035896Z",
     "iopub.status.idle": "2024-11-20T20:18:12.039418Z",
     "shell.execute_reply": "2024-11-20T20:18:12.038607Z"
    },
    "papermill": {
     "duration": 0.010278,
     "end_time": "2024-11-20T20:18:12.041025",
     "exception": false,
     "start_time": "2024-11-20T20:18:12.030747",
     "status": "completed"
    },
    "tags": []
   },
   "outputs": [],
   "source": [
    "epochs = 30\n",
    "batch_size = 86"
   ]
  },
  {
   "cell_type": "code",
   "execution_count": 17,
   "id": "40838367",
   "metadata": {
    "execution": {
     "iopub.execute_input": "2024-11-20T20:18:12.050940Z",
     "iopub.status.busy": "2024-11-20T20:18:12.050685Z",
     "iopub.status.idle": "2024-11-20T20:18:12.152101Z",
     "shell.execute_reply": "2024-11-20T20:18:12.151392Z"
    },
    "papermill": {
     "duration": 0.108539,
     "end_time": "2024-11-20T20:18:12.154086",
     "exception": false,
     "start_time": "2024-11-20T20:18:12.045547",
     "status": "completed"
    },
    "tags": []
   },
   "outputs": [],
   "source": [
    "datagen = ImageDataGenerator(\n",
    "        featurewise_center=False,  # set input mean to 0 over the dataset\n",
    "        samplewise_center=False,  # set each sample mean to 0\n",
    "        featurewise_std_normalization=False,  # divide inputs by std of the dataset\n",
    "        samplewise_std_normalization=False,  # divide each input by its std\n",
    "        zca_whitening=False,  # apply ZCA whitening\n",
    "        rotation_range=10,  # randomly rotate images in the range (degrees, 0 to 180)\n",
    "        zoom_range = 0.1, # Randomly zoom image \n",
    "        width_shift_range=0.1,  # randomly shift images horizontally (fraction of total width)\n",
    "        height_shift_range=0.1,  # randomly shift images vertically (fraction of total height)\n",
    "        horizontal_flip=False,  # randomly flip images\n",
    "        vertical_flip=False)  # randomly flip images\n",
    "\n",
    "\n",
    "datagen.fit(X_train)"
   ]
  },
  {
   "cell_type": "code",
   "execution_count": 18,
   "id": "c11a48c9",
   "metadata": {
    "execution": {
     "iopub.execute_input": "2024-11-20T20:18:12.165153Z",
     "iopub.status.busy": "2024-11-20T20:18:12.164882Z",
     "iopub.status.idle": "2024-11-20T20:21:03.940008Z",
     "shell.execute_reply": "2024-11-20T20:21:03.939113Z"
    },
    "papermill": {
     "duration": 171.782384,
     "end_time": "2024-11-20T20:21:03.941872",
     "exception": false,
     "start_time": "2024-11-20T20:18:12.159488",
     "status": "completed"
    },
    "tags": []
   },
   "outputs": [
    {
     "name": "stdout",
     "output_type": "stream",
     "text": [
      "Epoch 1/30\n"
     ]
    },
    {
     "name": "stderr",
     "output_type": "stream",
     "text": [
      "/opt/conda/lib/python3.10/site-packages/keras/src/trainers/data_adapters/py_dataset_adapter.py:121: UserWarning: Your `PyDataset` class should call `super().__init__(**kwargs)` in its constructor. `**kwargs` can include `workers`, `use_multiprocessing`, `max_queue_size`. Do not pass these arguments to `fit()`, as they will be ignored.\n",
      "  self._warn_if_super_not_called()\n",
      "WARNING: All log messages before absl::InitializeLog() is called are written to STDERR\n",
      "I0000 00:00:1732133893.549345      66 service.cc:145] XLA service 0x78f94000bb50 initialized for platform CUDA (this does not guarantee that XLA will be used). Devices:\n",
      "I0000 00:00:1732133893.549424      66 service.cc:153]   StreamExecutor device (0): Tesla P100-PCIE-16GB, Compute Capability 6.0\n",
      "I0000 00:00:1732133899.399429      66 device_compiler.h:188] Compiled cluster using XLA!  This line is logged at most once for the lifetime of the process.\n"
     ]
    },
    {
     "name": "stdout",
     "output_type": "stream",
     "text": [
      "439/439 - 22s - 51ms/step - accuracy: 0.8664 - loss: 0.4168 - val_accuracy: 0.9824 - val_loss: 0.0577 - learning_rate: 0.0010\n",
      "Epoch 2/30\n"
     ]
    },
    {
     "name": "stderr",
     "output_type": "stream",
     "text": [
      "/opt/conda/lib/python3.10/contextlib.py:153: UserWarning: Your input ran out of data; interrupting training. Make sure that your dataset or generator can generate at least `steps_per_epoch * epochs` batches. You may need to use the `.repeat()` function when building your dataset.\n",
      "  self.gen.throw(typ, value, traceback)\n"
     ]
    },
    {
     "name": "stdout",
     "output_type": "stream",
     "text": [
      "439/439 - 0s - 481us/step - accuracy: 0.9767 - loss: 0.0765 - val_accuracy: 0.9814 - val_loss: 0.0650 - learning_rate: 0.0010\n",
      "Epoch 3/30\n",
      "439/439 - 10s - 23ms/step - accuracy: 0.9630 - loss: 0.1232 - val_accuracy: 0.9886 - val_loss: 0.0413 - learning_rate: 0.0010\n",
      "Epoch 4/30\n",
      "439/439 - 0s - 464us/step - accuracy: 0.9767 - loss: 0.0692 - val_accuracy: 0.9881 - val_loss: 0.0423 - learning_rate: 0.0010\n",
      "Epoch 5/30\n",
      "439/439 - 11s - 24ms/step - accuracy: 0.9741 - loss: 0.0901 - val_accuracy: 0.9893 - val_loss: 0.0331 - learning_rate: 0.0010\n",
      "Epoch 6/30\n",
      "439/439 - 0s - 471us/step - accuracy: 0.9767 - loss: 0.0502 - val_accuracy: 0.9874 - val_loss: 0.0379 - learning_rate: 0.0010\n",
      "Epoch 7/30\n",
      "439/439 - 10s - 24ms/step - accuracy: 0.9772 - loss: 0.0754 - val_accuracy: 0.9902 - val_loss: 0.0359 - learning_rate: 0.0010\n",
      "Epoch 8/30\n",
      "\n",
      "Epoch 8: ReduceLROnPlateau reducing learning rate to 0.0005000000237487257.\n",
      "439/439 - 0s - 489us/step - accuracy: 0.9884 - loss: 0.0417 - val_accuracy: 0.9890 - val_loss: 0.0382 - learning_rate: 0.0010\n",
      "Epoch 9/30\n",
      "439/439 - 10s - 24ms/step - accuracy: 0.9831 - loss: 0.0570 - val_accuracy: 0.9938 - val_loss: 0.0245 - learning_rate: 5.0000e-04\n",
      "Epoch 10/30\n",
      "439/439 - 0s - 491us/step - accuracy: 0.9651 - loss: 0.0724 - val_accuracy: 0.9940 - val_loss: 0.0218 - learning_rate: 5.0000e-04\n",
      "Epoch 11/30\n",
      "439/439 - 10s - 24ms/step - accuracy: 0.9854 - loss: 0.0488 - val_accuracy: 0.9924 - val_loss: 0.0245 - learning_rate: 5.0000e-04\n",
      "Epoch 12/30\n",
      "439/439 - 0s - 484us/step - accuracy: 0.9884 - loss: 0.0283 - val_accuracy: 0.9933 - val_loss: 0.0215 - learning_rate: 5.0000e-04\n",
      "Epoch 13/30\n",
      "439/439 - 10s - 24ms/step - accuracy: 0.9856 - loss: 0.0492 - val_accuracy: 0.9924 - val_loss: 0.0234 - learning_rate: 5.0000e-04\n",
      "Epoch 14/30\n",
      "439/439 - 0s - 481us/step - accuracy: 0.9884 - loss: 0.0364 - val_accuracy: 0.9936 - val_loss: 0.0222 - learning_rate: 5.0000e-04\n",
      "Epoch 15/30\n",
      "\n",
      "Epoch 15: ReduceLROnPlateau reducing learning rate to 0.0002500000118743628.\n",
      "439/439 - 10s - 24ms/step - accuracy: 0.9871 - loss: 0.0445 - val_accuracy: 0.9907 - val_loss: 0.0277 - learning_rate: 5.0000e-04\n",
      "Epoch 16/30\n",
      "439/439 - 0s - 473us/step - accuracy: 0.9884 - loss: 0.0331 - val_accuracy: 0.9907 - val_loss: 0.0266 - learning_rate: 2.5000e-04\n",
      "Epoch 17/30\n",
      "439/439 - 11s - 24ms/step - accuracy: 0.9883 - loss: 0.0388 - val_accuracy: 0.9945 - val_loss: 0.0172 - learning_rate: 2.5000e-04\n",
      "Epoch 18/30\n",
      "439/439 - 0s - 499us/step - accuracy: 0.9884 - loss: 0.0404 - val_accuracy: 0.9948 - val_loss: 0.0176 - learning_rate: 2.5000e-04\n",
      "Epoch 19/30\n",
      "439/439 - 10s - 24ms/step - accuracy: 0.9894 - loss: 0.0353 - val_accuracy: 0.9950 - val_loss: 0.0173 - learning_rate: 2.5000e-04\n",
      "Epoch 20/30\n",
      "\n",
      "Epoch 20: ReduceLROnPlateau reducing learning rate to 0.0001250000059371814.\n",
      "439/439 - 0s - 486us/step - accuracy: 1.0000 - loss: 0.0125 - val_accuracy: 0.9950 - val_loss: 0.0172 - learning_rate: 2.5000e-04\n",
      "Epoch 21/30\n",
      "439/439 - 10s - 24ms/step - accuracy: 0.9901 - loss: 0.0320 - val_accuracy: 0.9957 - val_loss: 0.0171 - learning_rate: 1.2500e-04\n",
      "Epoch 22/30\n",
      "439/439 - 0s - 486us/step - accuracy: 0.9767 - loss: 0.1924 - val_accuracy: 0.9957 - val_loss: 0.0168 - learning_rate: 1.2500e-04\n",
      "Epoch 23/30\n",
      "439/439 - 10s - 24ms/step - accuracy: 0.9905 - loss: 0.0322 - val_accuracy: 0.9957 - val_loss: 0.0198 - learning_rate: 1.2500e-04\n",
      "Epoch 24/30\n",
      "439/439 - 0s - 486us/step - accuracy: 0.9884 - loss: 0.0237 - val_accuracy: 0.9955 - val_loss: 0.0202 - learning_rate: 1.2500e-04\n",
      "Epoch 25/30\n",
      "\n",
      "Epoch 25: ReduceLROnPlateau reducing learning rate to 6.25000029685907e-05.\n",
      "439/439 - 10s - 24ms/step - accuracy: 0.9903 - loss: 0.0324 - val_accuracy: 0.9950 - val_loss: 0.0171 - learning_rate: 1.2500e-04\n",
      "Epoch 26/30\n",
      "439/439 - 0s - 476us/step - accuracy: 1.0000 - loss: 0.0063 - val_accuracy: 0.9950 - val_loss: 0.0171 - learning_rate: 6.2500e-05\n",
      "Epoch 27/30\n",
      "439/439 - 10s - 24ms/step - accuracy: 0.9914 - loss: 0.0286 - val_accuracy: 0.9957 - val_loss: 0.0180 - learning_rate: 6.2500e-05\n",
      "Epoch 28/30\n",
      "\n",
      "Epoch 28: ReduceLROnPlateau reducing learning rate to 3.125000148429535e-05.\n",
      "439/439 - 0s - 496us/step - accuracy: 1.0000 - loss: 0.0159 - val_accuracy: 0.9960 - val_loss: 0.0178 - learning_rate: 6.2500e-05\n",
      "Epoch 29/30\n",
      "439/439 - 10s - 24ms/step - accuracy: 0.9914 - loss: 0.0295 - val_accuracy: 0.9960 - val_loss: 0.0166 - learning_rate: 3.1250e-05\n",
      "Epoch 30/30\n",
      "439/439 - 0s - 472us/step - accuracy: 0.9767 - loss: 0.0530 - val_accuracy: 0.9960 - val_loss: 0.0166 - learning_rate: 3.1250e-05\n"
     ]
    }
   ],
   "source": [
    "history = model.fit(datagen.flow(X_train,Y_train, batch_size=batch_size),\n",
    "                              epochs = epochs, \n",
    "                              validation_data = (X_val,Y_val),\n",
    "                              verbose = 2, \n",
    "                              steps_per_epoch=X_train.shape[0] // batch_size, \n",
    "                              callbacks=[learning_rate_reduction])"
   ]
  },
  {
   "cell_type": "code",
   "execution_count": 19,
   "id": "5818c3cf",
   "metadata": {
    "execution": {
     "iopub.execute_input": "2024-11-20T20:21:03.958576Z",
     "iopub.status.busy": "2024-11-20T20:21:03.958291Z",
     "iopub.status.idle": "2024-11-20T20:21:04.395855Z",
     "shell.execute_reply": "2024-11-20T20:21:04.394995Z"
    },
    "papermill": {
     "duration": 0.447421,
     "end_time": "2024-11-20T20:21:04.397490",
     "exception": false,
     "start_time": "2024-11-20T20:21:03.950069",
     "status": "completed"
    },
    "tags": []
   },
   "outputs": [
    {
     "data": {
      "image/png": "[encoded data removed]",
      "text/plain": [
       "<Figure size 640x480 with 2 Axes>"
      ]
     },
     "metadata": {},
     "output_type": "display_data"
    }
   ],
   "source": [
    "# Plot the loss and accuracy curves for training and validation \n",
    "fig, ax = plt.subplots(2,1)\n",
    "ax[0].plot(history.history['loss'], color='b', label=\"Training loss\")\n",
    "ax[0].plot(history.history['val_loss'], color='r', label=\"validation loss\",axes =ax[0])\n",
    "legend = ax[0].legend(loc='best', shadow=True)\n",
    "\n",
    "ax[1].plot(history.history['accuracy'], color='b', label=\"Training accuracy\")\n",
    "ax[1].plot(history.history['val_accuracy'], color='r',label=\"Validation accuracy\")\n",
    "legend = ax[1].legend(loc='best', shadow=True)"
   ]
  },
  {
   "cell_type": "code",
   "execution_count": 20,
   "id": "4d04a6bf",
   "metadata": {
    "execution": {
     "iopub.execute_input": "2024-11-20T20:21:04.416638Z",
     "iopub.status.busy": "2024-11-20T20:21:04.416119Z",
     "iopub.status.idle": "2024-11-20T20:21:05.868590Z",
     "shell.execute_reply": "2024-11-20T20:21:05.867735Z"
    },
    "papermill": {
     "duration": 1.463459,
     "end_time": "2024-11-20T20:21:05.870292",
     "exception": false,
     "start_time": "2024-11-20T20:21:04.406833",
     "status": "completed"
    },
    "tags": []
   },
   "outputs": [
    {
     "name": "stdout",
     "output_type": "stream",
     "text": [
      "\u001b[1m132/132\u001b[0m \u001b[32m━━━━━━━━━━━━━━━━━━━━\u001b[0m\u001b[37m\u001b[0m \u001b[1m1s\u001b[0m 3ms/step\n"
     ]
    },
    {
     "data": {
      "image/png": "[encoded data removed]",
      "text/plain": [
       "<Figure size 640x480 with 2 Axes>"
      ]
     },
     "metadata": {},
     "output_type": "display_data"
    }
   ],
   "source": [
    "# Look at confusion matrix \n",
    "\n",
    "def plot_confusion_matrix(cm, classes,\n",
    "                          normalize=False,\n",
    "                          title='Confusion matrix',\n",
    "                          cmap=plt.cm.Blues):\n",
    "    \"\"\"\n",
    "    This function prints and plots the confusion matrix.\n",
    "    Normalization can be applied by setting `normalize=True`.\n",
    "    \"\"\"\n",
    "    plt.imshow(cm, interpolation='nearest', cmap=cmap)\n",
    "    plt.title(title)\n",
    "    plt.colorbar()\n",
    "    tick_marks = np.arange(len(classes))\n",
    "    plt.xticks(tick_marks, classes, rotation=45)\n",
    "    plt.yticks(tick_marks, classes)\n",
    "\n",
    "    if normalize:\n",
    "        cm = cm.astype('float') / cm.sum(axis=1)[:, np.newaxis]\n",
    "\n",
    "    thresh = cm.max() / 2.\n",
    "    for i, j in itertools.product(range(cm.shape[0]), range(cm.shape[1])):\n",
    "        plt.text(j, i, cm[i, j],\n",
    "                 horizontalalignment=\"center\",\n",
    "                 color=\"white\" if cm[i, j] > thresh else \"black\")\n",
    "\n",
    "    plt.tight_layout()\n",
    "    plt.ylabel('True label')\n",
    "    plt.xlabel('Predicted label')\n",
    "\n",
    "# Predict the values from the validation dataset\n",
    "Y_pred = model.predict(X_val)\n",
    "# Convert predictions classes to one hot vectors \n",
    "Y_pred_classes = np.argmax(Y_pred,axis = 1) \n",
    "# Convert validation observations to one hot vectors\n",
    "Y_true = np.argmax(Y_val,axis = 1) \n",
    "# compute the confusion matrix\n",
    "confusion_mtx = confusion_matrix(Y_true, Y_pred_classes) \n",
    "# plot the confusion matrix\n",
    "plot_confusion_matrix(confusion_mtx, classes = range(10)) "
   ]
  },
  {
   "cell_type": "code",
   "execution_count": 21,
   "id": "c35777c1",
   "metadata": {
    "execution": {
     "iopub.execute_input": "2024-11-20T20:21:05.889982Z",
     "iopub.status.busy": "2024-11-20T20:21:05.889672Z",
     "iopub.status.idle": "2024-11-20T20:21:06.828069Z",
     "shell.execute_reply": "2024-11-20T20:21:06.827155Z"
    },
    "papermill": {
     "duration": 0.949737,
     "end_time": "2024-11-20T20:21:06.829717",
     "exception": false,
     "start_time": "2024-11-20T20:21:05.879980",
     "status": "completed"
    },
    "tags": []
   },
   "outputs": [
    {
     "data": {
      "image/png": "[encoded data removed]",
      "text/plain": [
       "<Figure size 640x480 with 6 Axes>"
      ]
     },
     "metadata": {},
     "output_type": "display_data"
    }
   ],
   "source": [
    "# Display some error results \n",
    "\n",
    "# Errors are difference between predicted labels and true labels\n",
    "errors = (Y_pred_classes - Y_true != 0)\n",
    "\n",
    "Y_pred_classes_errors = Y_pred_classes[errors]\n",
    "Y_pred_errors = Y_pred[errors]\n",
    "Y_true_errors = Y_true[errors]\n",
    "X_val_errors = X_val[errors]\n",
    "\n",
    "def display_errors(errors_index,img_errors,pred_errors, obs_errors):\n",
    "    \"\"\" This function shows 6 images with their predicted and real labels\"\"\"\n",
    "    n = 0\n",
    "    nrows = 2\n",
    "    ncols = 3\n",
    "    fig, ax = plt.subplots(nrows,ncols,sharex=True,sharey=True)\n",
    "    for row in range(nrows):\n",
    "        for col in range(ncols):\n",
    "            error = errors_index[n]\n",
    "            ax[row,col].imshow((img_errors[error]).reshape((28,28)))\n",
    "            ax[row,col].set_title(\"Predicted label :{}\\nTrue label :{}\".format(pred_errors[error],obs_errors[error]))\n",
    "            n += 1\n",
    "\n",
    "# Probabilities of the wrong predicted numbers\n",
    "Y_pred_errors_prob = np.max(Y_pred_errors,axis = 1)\n",
    "\n",
    "# Predicted probabilities of the true values in the error set\n",
    "true_prob_errors = np.diagonal(np.take(Y_pred_errors, Y_true_errors, axis=1))\n",
    "\n",
    "# Difference between the probability of the predicted label and the true label\n",
    "delta_pred_true_errors = Y_pred_errors_prob - true_prob_errors\n",
    "\n",
    "# Sorted list of the delta prob errors\n",
    "sorted_dela_errors = np.argsort(delta_pred_true_errors)\n",
    "\n",
    "# Top 6 errors \n",
    "most_important_errors = sorted_dela_errors[-6:]\n",
    "\n",
    "# Show the top 6 errors\n",
    "display_errors(most_important_errors, X_val_errors, Y_pred_classes_errors, Y_true_errors)"
   ]
  },
  {
   "cell_type": "code",
   "execution_count": 22,
   "id": "70dcb2c3",
   "metadata": {
    "execution": {
     "iopub.execute_input": "2024-11-20T20:21:06.850117Z",
     "iopub.status.busy": "2024-11-20T20:21:06.849814Z",
     "iopub.status.idle": "2024-11-20T20:21:08.671053Z",
     "shell.execute_reply": "2024-11-20T20:21:08.670320Z"
    },
    "papermill": {
     "duration": 1.833704,
     "end_time": "2024-11-20T20:21:08.673096",
     "exception": false,
     "start_time": "2024-11-20T20:21:06.839392",
     "status": "completed"
    },
    "tags": []
   },
   "outputs": [
    {
     "name": "stdout",
     "output_type": "stream",
     "text": [
      "\u001b[1m875/875\u001b[0m \u001b[32m━━━━━━━━━━━━━━━━━━━━\u001b[0m\u001b[37m\u001b[0m \u001b[1m1s\u001b[0m 1ms/step\n"
     ]
    }
   ],
   "source": [
    "# predict results\n",
    "results = model.predict(test)\n",
    "\n",
    "# select the indix with the maximum probability\n",
    "results = np.argmax(results,axis = 1)\n",
    "\n",
    "results = pd.Series(results,name=\"Label\")"
   ]
  },
  {
   "cell_type": "code",
   "execution_count": 23,
   "id": "0b43f5a1",
   "metadata": {
    "execution": {
     "iopub.execute_input": "2024-11-20T20:21:08.695860Z",
     "iopub.status.busy": "2024-11-20T20:21:08.695055Z",
     "iopub.status.idle": "2024-11-20T20:21:08.718598Z",
     "shell.execute_reply": "2024-11-20T20:21:08.717996Z"
    },
    "papermill": {
     "duration": 0.036195,
     "end_time": "2024-11-20T20:21:08.720129",
     "exception": false,
     "start_time": "2024-11-20T20:21:08.683934",
     "status": "completed"
    },
    "tags": []
   },
   "outputs": [],
   "source": [
    "submission = pd.concat([pd.Series(range(1,28001),name = \"ImageId\"),results],axis = 1)\n",
    "\n",
    "submission.to_csv(\"cnn_mnist_datagen.csv\",index=False)"
   ]
  }
 ],
 "metadata": {
  "kaggle": {
   "accelerator": "none",
   "dataSources": [
    {
     "datasetId": 6130501,
     "sourceId": 9965768,
     "sourceType": "datasetVersion"
    }
   ],
   "dockerImageVersionId": 30786,
   "isGpuEnabled": false,
   "isInternetEnabled": true,
   "language": "python",
   "sourceType": "notebook"
  },
  "kernelspec": {
   "display_name": "Python 3",
   "language": "python",
   "name": "python3"
  },
  "language_info": {
   "codemirror_mode": {
    "name": "ipython",
    "version": 3
   },
   "file_extension": ".py",
   "mimetype": "text/x-python",
   "name": "python",
   "nbconvert_exporter": "python",
   "pygments_lexer": "ipython3",
   "version": "3.10.14"
  },
  "papermill": {
   "default_parameters": {},
   "duration": 201.709251,
   "end_time": "2024-11-20T20:21:11.238881",
   "environment_variables": {},
   "exception": null,
   "input_path": "__notebook__.ipynb",
   "output_path": "__notebook__.ipynb",
   "parameters": {},
   "start_time": "2024-11-20T20:17:49.529630",
   "version": "2.6.0"
  }
 },
 "nbformat": 4,
 "nbformat_minor": 5
}
