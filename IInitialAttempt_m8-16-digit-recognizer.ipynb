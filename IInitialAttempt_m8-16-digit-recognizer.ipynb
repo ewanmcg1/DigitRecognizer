{
 "cells": [
  {
   "cell_type": "code",
   "execution_count": 1,
   "id": "fb458b8c",
   "metadata": {
    "execution": {
     "iopub.execute_input": "2024-11-20T20:09:55.019336Z",
     "iopub.status.busy": "2024-11-20T20:09:55.018901Z",
     "iopub.status.idle": "2024-11-20T20:10:08.119773Z",
     "shell.execute_reply": "2024-11-20T20:10:08.118815Z"
    },
    "papermill": {
     "duration": 13.109187,
     "end_time": "2024-11-20T20:10:08.121895",
     "exception": false,
     "start_time": "2024-11-20T20:09:55.012708",
     "status": "completed"
    },
    "tags": []
   },
   "outputs": [],
   "source": [
    "import pandas as pd\n",
    "import numpy as np\n",
    "import matplotlib.pyplot as plt\n",
    "import matplotlib.image as mpimg\n",
    "import seaborn as sns\n",
    "%matplotlib inline\n",
    "\n",
    "np.random.seed(2)\n",
    "\n",
    "from sklearn.model_selection import train_test_split\n",
    "from sklearn.metrics import confusion_matrix\n",
    "import itertools\n",
    "\n",
    "from tensorflow.keras.utils import to_categorical\n",
    "from tensorflow.keras.models import Sequential\n",
    "from tensorflow.keras.layers import Dense, Dropout, Flatten, Conv2D, MaxPool2D\n",
    "from tensorflow.keras.optimizers import RMSprop\n",
    "from tensorflow.keras.preprocessing.image import ImageDataGenerator\n",
    "from tensorflow.keras.callbacks import ReduceLROnPlateau\n",
    "\n",
    "\n",
    "sns.set(style='white', context='notebook', palette='deep')"
   ]
  },
  {
   "cell_type": "code",
   "execution_count": 2,
   "id": "dfa0b4e4",
   "metadata": {
    "execution": {
     "iopub.execute_input": "2024-11-20T20:10:08.131580Z",
     "iopub.status.busy": "2024-11-20T20:10:08.131119Z",
     "iopub.status.idle": "2024-11-20T20:10:12.220606Z",
     "shell.execute_reply": "2024-11-20T20:10:12.219630Z"
    },
    "papermill": {
     "duration": 4.096645,
     "end_time": "2024-11-20T20:10:12.222778",
     "exception": false,
     "start_time": "2024-11-20T20:10:08.126133",
     "status": "completed"
    },
    "tags": []
   },
   "outputs": [],
   "source": [
    "#Load the data\n",
    "train = pd.read_csv(\"/kaggle/input/digit-recognizer/train.csv\")\n",
    "test = pd.read_csv(\"/kaggle/input/digit-recognizer/test.csv\")"
   ]
  },
  {
   "cell_type": "code",
   "execution_count": 3,
   "id": "166598fe",
   "metadata": {
    "execution": {
     "iopub.execute_input": "2024-11-20T20:10:12.232292Z",
     "iopub.status.busy": "2024-11-20T20:10:12.232019Z",
     "iopub.status.idle": "2024-11-20T20:10:12.556903Z",
     "shell.execute_reply": "2024-11-20T20:10:12.555972Z"
    },
    "papermill": {
     "duration": 0.331755,
     "end_time": "2024-11-20T20:10:12.558913",
     "exception": false,
     "start_time": "2024-11-20T20:10:12.227158",
     "status": "completed"
    },
    "tags": []
   },
   "outputs": [
    {
     "data": {
      "text/plain": [
       "label\n",
       "1    4684\n",
       "7    4401\n",
       "3    4351\n",
       "9    4188\n",
       "2    4177\n",
       "6    4137\n",
       "0    4132\n",
       "4    4072\n",
       "8    4063\n",
       "5    3795\n",
       "Name: count, dtype: int64"
      ]
     },
     "execution_count": 3,
     "metadata": {},
     "output_type": "execute_result"
    },
    {
     "data": {
      "image/png": "[encoded data removed]",
      "text/plain": [
       "<Figure size 640x480 with 1 Axes>"
      ]
     },
     "metadata": {},
     "output_type": "display_data"
    }
   ],
   "source": [
    "Y_train = train[\"label\"]\n",
    "\n",
    "# Drop 'label' column\n",
    "X_train = train.drop(labels = [\"label\"],axis = 1) \n",
    "\n",
    "# free some space\n",
    "del train \n",
    "\n",
    "g = sns.countplot(Y_train)\n",
    "\n",
    "Y_train.value_counts()"
   ]
  },
  {
   "cell_type": "code",
   "execution_count": 4,
   "id": "82a0195d",
   "metadata": {
    "execution": {
     "iopub.execute_input": "2024-11-20T20:10:12.570099Z",
     "iopub.status.busy": "2024-11-20T20:10:12.569800Z",
     "iopub.status.idle": "2024-11-20T20:10:12.587659Z",
     "shell.execute_reply": "2024-11-20T20:10:12.586709Z"
    },
    "papermill": {
     "duration": 0.025141,
     "end_time": "2024-11-20T20:10:12.589718",
     "exception": false,
     "start_time": "2024-11-20T20:10:12.564577",
     "status": "completed"
    },
    "tags": []
   },
   "outputs": [
    {
     "data": {
      "text/plain": [
       "count       784\n",
       "unique        1\n",
       "top       False\n",
       "freq        784\n",
       "dtype: object"
      ]
     },
     "execution_count": 4,
     "metadata": {},
     "output_type": "execute_result"
    }
   ],
   "source": [
    "# Check the data\n",
    "X_train.isnull().any().describe()"
   ]
  },
  {
   "cell_type": "code",
   "execution_count": 5,
   "id": "64c8b179",
   "metadata": {
    "execution": {
     "iopub.execute_input": "2024-11-20T20:10:12.600246Z",
     "iopub.status.busy": "2024-11-20T20:10:12.599997Z",
     "iopub.status.idle": "2024-11-20T20:10:12.611693Z",
     "shell.execute_reply": "2024-11-20T20:10:12.610883Z"
    },
    "papermill": {
     "duration": 0.018651,
     "end_time": "2024-11-20T20:10:12.613476",
     "exception": false,
     "start_time": "2024-11-20T20:10:12.594825",
     "status": "completed"
    },
    "tags": []
   },
   "outputs": [
    {
     "data": {
      "text/plain": [
       "count       784\n",
       "unique        1\n",
       "top       False\n",
       "freq        784\n",
       "dtype: object"
      ]
     },
     "execution_count": 5,
     "metadata": {},
     "output_type": "execute_result"
    }
   ],
   "source": [
    "test.isnull().any().describe()"
   ]
  },
  {
   "cell_type": "code",
   "execution_count": 6,
   "id": "5ee10de3",
   "metadata": {
    "execution": {
     "iopub.execute_input": "2024-11-20T20:10:12.624741Z",
     "iopub.status.busy": "2024-11-20T20:10:12.624020Z",
     "iopub.status.idle": "2024-11-20T20:10:12.713522Z",
     "shell.execute_reply": "2024-11-20T20:10:12.712781Z"
    },
    "papermill": {
     "duration": 0.097083,
     "end_time": "2024-11-20T20:10:12.715604",
     "exception": false,
     "start_time": "2024-11-20T20:10:12.618521",
     "status": "completed"
    },
    "tags": []
   },
   "outputs": [],
   "source": [
    "# Normalize the data\n",
    "X_train = X_train / 255.0\n",
    "test = test / 255.0"
   ]
  },
  {
   "cell_type": "code",
   "execution_count": 7,
   "id": "cd363dec",
   "metadata": {
    "execution": {
     "iopub.execute_input": "2024-11-20T20:10:12.726684Z",
     "iopub.status.busy": "2024-11-20T20:10:12.725842Z",
     "iopub.status.idle": "2024-11-20T20:10:12.730184Z",
     "shell.execute_reply": "2024-11-20T20:10:12.729489Z"
    },
    "papermill": {
     "duration": 0.01123,
     "end_time": "2024-11-20T20:10:12.731758",
     "exception": false,
     "start_time": "2024-11-20T20:10:12.720528",
     "status": "completed"
    },
    "tags": []
   },
   "outputs": [],
   "source": [
    "# Reshape image in 3 dimensions (height = 28px, width = 28px , canal = 1)\n",
    "X_train = X_train.values.reshape(-1,28,28,1)\n",
    "test = test.values.reshape(-1,28,28,1)"
   ]
  },
  {
   "cell_type": "code",
   "execution_count": 8,
   "id": "5428ce05",
   "metadata": {
    "execution": {
     "iopub.execute_input": "2024-11-20T20:10:12.742454Z",
     "iopub.status.busy": "2024-11-20T20:10:12.741789Z",
     "iopub.status.idle": "2024-11-20T20:10:12.747371Z",
     "shell.execute_reply": "2024-11-20T20:10:12.746769Z"
    },
    "papermill": {
     "duration": 0.012373,
     "end_time": "2024-11-20T20:10:12.748921",
     "exception": false,
     "start_time": "2024-11-20T20:10:12.736548",
     "status": "completed"
    },
    "tags": []
   },
   "outputs": [],
   "source": [
    "# Encode labels to one hot vectors (ex : 2 -> [0,0,1,0,0,0,0,0,0,0])\n",
    "Y_train = to_categorical(Y_train, num_classes = 10)"
   ]
  },
  {
   "cell_type": "code",
   "execution_count": 9,
   "id": "d8a19ed1",
   "metadata": {
    "execution": {
     "iopub.execute_input": "2024-11-20T20:10:12.758689Z",
     "iopub.status.busy": "2024-11-20T20:10:12.758231Z",
     "iopub.status.idle": "2024-11-20T20:10:12.761665Z",
     "shell.execute_reply": "2024-11-20T20:10:12.760986Z"
    },
    "papermill": {
     "duration": 0.010118,
     "end_time": "2024-11-20T20:10:12.763309",
     "exception": false,
     "start_time": "2024-11-20T20:10:12.753191",
     "status": "completed"
    },
    "tags": []
   },
   "outputs": [],
   "source": [
    "# Set the random seed\n",
    "random_seed = 2"
   ]
  },
  {
   "cell_type": "code",
   "execution_count": 10,
   "id": "29970604",
   "metadata": {
    "execution": {
     "iopub.execute_input": "2024-11-20T20:10:12.772687Z",
     "iopub.status.busy": "2024-11-20T20:10:12.772433Z",
     "iopub.status.idle": "2024-11-20T20:10:13.163537Z",
     "shell.execute_reply": "2024-11-20T20:10:13.162555Z"
    },
    "papermill": {
     "duration": 0.397947,
     "end_time": "2024-11-20T20:10:13.165569",
     "exception": false,
     "start_time": "2024-11-20T20:10:12.767622",
     "status": "completed"
    },
    "tags": []
   },
   "outputs": [],
   "source": [
    "# Split the train and the validation set for the fitting\n",
    "X_train, X_val, Y_train, Y_val = train_test_split(X_train, Y_train, test_size = 0.1, random_state=random_seed)"
   ]
  },
  {
   "cell_type": "code",
   "execution_count": 11,
   "id": "b20359d4",
   "metadata": {
    "execution": {
     "iopub.execute_input": "2024-11-20T20:10:13.176260Z",
     "iopub.status.busy": "2024-11-20T20:10:13.175910Z",
     "iopub.status.idle": "2024-11-20T20:10:13.389004Z",
     "shell.execute_reply": "2024-11-20T20:10:13.388047Z"
    },
    "papermill": {
     "duration": 0.220311,
     "end_time": "2024-11-20T20:10:13.390828",
     "exception": false,
     "start_time": "2024-11-20T20:10:13.170517",
     "status": "completed"
    },
    "tags": []
   },
   "outputs": [
    {
     "data": {
      "image/png": "[encoded data removed]",
      "text/plain": [
       "<Figure size 640x480 with 1 Axes>"
      ]
     },
     "metadata": {},
     "output_type": "display_data"
    }
   ],
   "source": [
    "# Some examples\n",
    "g = plt.imshow(X_train[0][:,:,0])"
   ]
  },
  {
   "cell_type": "code",
   "execution_count": 12,
   "id": "f7a4dca7",
   "metadata": {
    "execution": {
     "iopub.execute_input": "2024-11-20T20:10:13.401516Z",
     "iopub.status.busy": "2024-11-20T20:10:13.401228Z",
     "iopub.status.idle": "2024-11-20T20:10:14.256199Z",
     "shell.execute_reply": "2024-11-20T20:10:14.255529Z"
    },
    "papermill": {
     "duration": 0.862479,
     "end_time": "2024-11-20T20:10:14.258147",
     "exception": false,
     "start_time": "2024-11-20T20:10:13.395668",
     "status": "completed"
    },
    "tags": []
   },
   "outputs": [
    {
     "name": "stderr",
     "output_type": "stream",
     "text": [
      "/opt/conda/lib/python3.10/site-packages/keras/src/layers/convolutional/base_conv.py:107: UserWarning: Do not pass an `input_shape`/`input_dim` argument to a layer. When using Sequential models, prefer using an `Input(shape)` object as the first layer in the model instead.\n",
      "  super().__init__(activity_regularizer=activity_regularizer, **kwargs)\n"
     ]
    }
   ],
   "source": [
    "# Set the CNN model \n",
    "# my CNN architechture is In -> [[Conv2D->relu]*2 -> MaxPool2D -> Dropout]*2 -> Flatten -> Dense -> Dropout -> Out\n",
    "\n",
    "model = Sequential()\n",
    "\n",
    "model.add(Conv2D(filters = 32, kernel_size = (5,5),padding = 'Same', \n",
    "                 activation ='relu', input_shape = (28,28,1)))\n",
    "model.add(Conv2D(filters = 32, kernel_size = (5,5),padding = 'Same', \n",
    "                 activation ='relu'))\n",
    "model.add(MaxPool2D(pool_size=(2,2)))\n",
    "model.add(Dropout(0.25))\n",
    "\n",
    "\n",
    "model.add(Conv2D(filters = 64, kernel_size = (3,3),padding = 'Same', \n",
    "                 activation ='relu'))\n",
    "model.add(Conv2D(filters = 64, kernel_size = (3,3),padding = 'Same', \n",
    "                 activation ='relu'))\n",
    "model.add(MaxPool2D(pool_size=(2,2), strides=(2,2)))\n",
    "model.add(Dropout(0.25))\n",
    "\n",
    "\n",
    "model.add(Flatten())\n",
    "model.add(Dense(256, activation = \"relu\"))\n",
    "model.add(Dropout(0.5))\n",
    "model.add(Dense(10, activation = \"softmax\"))"
   ]
  },
  {
   "cell_type": "code",
   "execution_count": 13,
   "id": "f8fea7e3",
   "metadata": {
    "execution": {
     "iopub.execute_input": "2024-11-20T20:10:14.268486Z",
     "iopub.status.busy": "2024-11-20T20:10:14.268210Z",
     "iopub.status.idle": "2024-11-20T20:10:14.278215Z",
     "shell.execute_reply": "2024-11-20T20:10:14.277289Z"
    },
    "papermill": {
     "duration": 0.016939,
     "end_time": "2024-11-20T20:10:14.279848",
     "exception": false,
     "start_time": "2024-11-20T20:10:14.262909",
     "status": "completed"
    },
    "tags": []
   },
   "outputs": [
    {
     "name": "stderr",
     "output_type": "stream",
     "text": [
      "/opt/conda/lib/python3.10/site-packages/keras/src/optimizers/base_optimizer.py:33: UserWarning: Argument `decay` is no longer supported and will be ignored.\n",
      "  warnings.warn(\n"
     ]
    }
   ],
   "source": [
    "# Define the optimizer\n",
    "optimizer = RMSprop(learning_rate=0.001, rho=0.9, epsilon=1e-08, decay=0.0)"
   ]
  },
  {
   "cell_type": "code",
   "execution_count": 14,
   "id": "aacd12bb",
   "metadata": {
    "execution": {
     "iopub.execute_input": "2024-11-20T20:10:14.290544Z",
     "iopub.status.busy": "2024-11-20T20:10:14.289933Z",
     "iopub.status.idle": "2024-11-20T20:10:14.296882Z",
     "shell.execute_reply": "2024-11-20T20:10:14.296078Z"
    },
    "papermill": {
     "duration": 0.013926,
     "end_time": "2024-11-20T20:10:14.298566",
     "exception": false,
     "start_time": "2024-11-20T20:10:14.284640",
     "status": "completed"
    },
    "tags": []
   },
   "outputs": [],
   "source": [
    "# Compile the model\n",
    "model.compile(optimizer = optimizer , loss = \"categorical_crossentropy\", metrics=[\"accuracy\"])"
   ]
  },
  {
   "cell_type": "code",
   "execution_count": 15,
   "id": "01809a94",
   "metadata": {
    "execution": {
     "iopub.execute_input": "2024-11-20T20:10:14.308837Z",
     "iopub.status.busy": "2024-11-20T20:10:14.308539Z",
     "iopub.status.idle": "2024-11-20T20:10:14.312606Z",
     "shell.execute_reply": "2024-11-20T20:10:14.311790Z"
    },
    "papermill": {
     "duration": 0.010944,
     "end_time": "2024-11-20T20:10:14.314145",
     "exception": false,
     "start_time": "2024-11-20T20:10:14.303201",
     "status": "completed"
    },
    "tags": []
   },
   "outputs": [],
   "source": [
    "# Set a learning rate annealer\n",
    "\n",
    "learning_rate_reduction = ReduceLROnPlateau(monitor=\"val_loss\", \n",
    "                                            patience=3, \n",
    "                                            verbose=1, \n",
    "                                            factor=0.5, \n",
    "                                            min_lr=0.00001)"
   ]
  },
  {
   "cell_type": "code",
   "execution_count": 16,
   "id": "f0a18b46",
   "metadata": {
    "execution": {
     "iopub.execute_input": "2024-11-20T20:10:14.324191Z",
     "iopub.status.busy": "2024-11-20T20:10:14.323912Z",
     "iopub.status.idle": "2024-11-20T20:10:14.327192Z",
     "shell.execute_reply": "2024-11-20T20:10:14.326477Z"
    },
    "papermill": {
     "duration": 0.010055,
     "end_time": "2024-11-20T20:10:14.328783",
     "exception": false,
     "start_time": "2024-11-20T20:10:14.318728",
     "status": "completed"
    },
    "tags": []
   },
   "outputs": [],
   "source": [
    "epochs = 1 # Turn epochs to 30 to get 0.9967 accuracy\n",
    "batch_size = 86"
   ]
  },
  {
   "cell_type": "code",
   "execution_count": 17,
   "id": "9b3e69de",
   "metadata": {
    "execution": {
     "iopub.execute_input": "2024-11-20T20:10:14.339558Z",
     "iopub.status.busy": "2024-11-20T20:10:14.339305Z",
     "iopub.status.idle": "2024-11-20T20:10:14.433225Z",
     "shell.execute_reply": "2024-11-20T20:10:14.432538Z"
    },
    "papermill": {
     "duration": 0.101987,
     "end_time": "2024-11-20T20:10:14.435327",
     "exception": false,
     "start_time": "2024-11-20T20:10:14.333340",
     "status": "completed"
    },
    "tags": []
   },
   "outputs": [],
   "source": [
    "datagen = ImageDataGenerator(\n",
    "        featurewise_center=False,  # set input mean to 0 over the dataset\n",
    "        samplewise_center=False,  # set each sample mean to 0\n",
    "        featurewise_std_normalization=False,  # divide inputs by std of the dataset\n",
    "        samplewise_std_normalization=False,  # divide each input by its std\n",
    "        zca_whitening=False,  # apply ZCA whitening\n",
    "        rotation_range=10,  # randomly rotate images in the range (degrees, 0 to 180)\n",
    "        zoom_range = 0.1, # Randomly zoom image \n",
    "        width_shift_range=0.1,  # randomly shift images horizontally (fraction of total width)\n",
    "        height_shift_range=0.1,  # randomly shift images vertically (fraction of total height)\n",
    "        horizontal_flip=False,  # randomly flip images\n",
    "        vertical_flip=False)  # randomly flip images\n",
    "\n",
    "\n",
    "datagen.fit(X_train)"
   ]
  },
  {
   "cell_type": "code",
   "execution_count": 18,
   "id": "e28457f7",
   "metadata": {
    "execution": {
     "iopub.execute_input": "2024-11-20T20:10:14.446618Z",
     "iopub.status.busy": "2024-11-20T20:10:14.446342Z",
     "iopub.status.idle": "2024-11-20T20:10:37.141379Z",
     "shell.execute_reply": "2024-11-20T20:10:37.140745Z"
    },
    "papermill": {
     "duration": 22.702453,
     "end_time": "2024-11-20T20:10:37.143082",
     "exception": false,
     "start_time": "2024-11-20T20:10:14.440629",
     "status": "completed"
    },
    "tags": []
   },
   "outputs": [
    {
     "name": "stderr",
     "output_type": "stream",
     "text": [
      "/opt/conda/lib/python3.10/site-packages/keras/src/trainers/data_adapters/py_dataset_adapter.py:121: UserWarning: Your `PyDataset` class should call `super().__init__(**kwargs)` in its constructor. `**kwargs` can include `workers`, `use_multiprocessing`, `max_queue_size`. Do not pass these arguments to `fit()`, as they will be ignored.\n",
      "  self._warn_if_super_not_called()\n",
      "WARNING: All log messages before absl::InitializeLog() is called are written to STDERR\n",
      "I0000 00:00:1732133415.961861      66 service.cc:145] XLA service 0x7b89b400a690 initialized for platform CUDA (this does not guarantee that XLA will be used). Devices:\n",
      "I0000 00:00:1732133415.961922      66 service.cc:153]   StreamExecutor device (0): Tesla P100-PCIE-16GB, Compute Capability 6.0\n",
      "I0000 00:00:1732133421.531704      66 device_compiler.h:188] Compiled cluster using XLA!  This line is logged at most once for the lifetime of the process.\n"
     ]
    },
    {
     "name": "stdout",
     "output_type": "stream",
     "text": [
      "439/439 - 23s - 51ms/step - accuracy: 0.8655 - loss: 0.4265 - val_accuracy: 0.9750 - val_loss: 0.0798 - learning_rate: 0.0010\n"
     ]
    }
   ],
   "source": [
    "history = model.fit(datagen.flow(X_train,Y_train, batch_size=batch_size),\n",
    "                              epochs = epochs, \n",
    "                              validation_data = (X_val,Y_val),\n",
    "                              verbose = 2, \n",
    "                              steps_per_epoch=X_train.shape[0] // batch_size, \n",
    "                              callbacks=[learning_rate_reduction])"
   ]
  },
  {
   "cell_type": "code",
   "execution_count": 19,
   "id": "0b9ba980",
   "metadata": {
    "execution": {
     "iopub.execute_input": "2024-11-20T20:10:37.154102Z",
     "iopub.status.busy": "2024-11-20T20:10:37.153789Z",
     "iopub.status.idle": "2024-11-20T20:10:37.637546Z",
     "shell.execute_reply": "2024-11-20T20:10:37.636700Z"
    },
    "papermill": {
     "duration": 0.491144,
     "end_time": "2024-11-20T20:10:37.639441",
     "exception": false,
     "start_time": "2024-11-20T20:10:37.148297",
     "status": "completed"
    },
    "tags": []
   },
   "outputs": [
    {
     "data": {
      "image/png": "[encoded data removed]",
      "text/plain": [
       "<Figure size 640x480 with 2 Axes>"
      ]
     },
     "metadata": {},
     "output_type": "display_data"
    }
   ],
   "source": [
    "# Plot the loss and accuracy curves for training and validation \n",
    "fig, ax = plt.subplots(2,1)\n",
    "ax[0].plot(history.history['loss'], color='b', label=\"Training loss\")\n",
    "ax[0].plot(history.history['val_loss'], color='r', label=\"validation loss\",axes =ax[0])\n",
    "legend = ax[0].legend(loc='best', shadow=True)\n",
    "\n",
    "ax[1].plot(history.history['accuracy'], color='b', label=\"Training accuracy\")\n",
    "ax[1].plot(history.history['val_accuracy'], color='r',label=\"Validation accuracy\")\n",
    "legend = ax[1].legend(loc='best', shadow=True)"
   ]
  },
  {
   "cell_type": "code",
   "execution_count": 20,
   "id": "17923569",
   "metadata": {
    "execution": {
     "iopub.execute_input": "2024-11-20T20:10:37.652635Z",
     "iopub.status.busy": "2024-11-20T20:10:37.652343Z",
     "iopub.status.idle": "2024-11-20T20:10:39.222689Z",
     "shell.execute_reply": "2024-11-20T20:10:39.221773Z"
    },
    "papermill": {
     "duration": 1.579322,
     "end_time": "2024-11-20T20:10:39.224559",
     "exception": false,
     "start_time": "2024-11-20T20:10:37.645237",
     "status": "completed"
    },
    "tags": []
   },
   "outputs": [
    {
     "name": "stdout",
     "output_type": "stream",
     "text": [
      "\u001b[1m132/132\u001b[0m \u001b[32m━━━━━━━━━━━━━━━━━━━━\u001b[0m\u001b[37m\u001b[0m \u001b[1m1s\u001b[0m 3ms/step\n"
     ]
    },
    {
     "data": {
      "image/png": "[encoded data removed]",
      "text/plain": [
       "<Figure size 640x480 with 2 Axes>"
      ]
     },
     "metadata": {},
     "output_type": "display_data"
    }
   ],
   "source": [
    "# Look at confusion matrix \n",
    "\n",
    "def plot_confusion_matrix(cm, classes,\n",
    "                          normalize=False,\n",
    "                          title='Confusion matrix',\n",
    "                          cmap=plt.cm.Blues):\n",
    "    \"\"\"\n",
    "    This function prints and plots the confusion matrix.\n",
    "    Normalization can be applied by setting `normalize=True`.\n",
    "    \"\"\"\n",
    "    plt.imshow(cm, interpolation='nearest', cmap=cmap)\n",
    "    plt.title(title)\n",
    "    plt.colorbar()\n",
    "    tick_marks = np.arange(len(classes))\n",
    "    plt.xticks(tick_marks, classes, rotation=45)\n",
    "    plt.yticks(tick_marks, classes)\n",
    "\n",
    "    if normalize:\n",
    "        cm = cm.astype('float') / cm.sum(axis=1)[:, np.newaxis]\n",
    "\n",
    "    thresh = cm.max() / 2.\n",
    "    for i, j in itertools.product(range(cm.shape[0]), range(cm.shape[1])):\n",
    "        plt.text(j, i, cm[i, j],\n",
    "                 horizontalalignment=\"center\",\n",
    "                 color=\"white\" if cm[i, j] > thresh else \"black\")\n",
    "\n",
    "    plt.tight_layout()\n",
    "    plt.ylabel('True label')\n",
    "    plt.xlabel('Predicted label')\n",
    "\n",
    "# Predict the values from the validation dataset\n",
    "Y_pred = model.predict(X_val)\n",
    "# Convert predictions classes to one hot vectors \n",
    "Y_pred_classes = np.argmax(Y_pred,axis = 1) \n",
    "# Convert validation observations to one hot vectors\n",
    "Y_true = np.argmax(Y_val,axis = 1) \n",
    "# compute the confusion matrix\n",
    "confusion_mtx = confusion_matrix(Y_true, Y_pred_classes) \n",
    "# plot the confusion matrix\n",
    "plot_confusion_matrix(confusion_mtx, classes = range(10)) "
   ]
  },
  {
   "cell_type": "code",
   "execution_count": 21,
   "id": "d04f4483",
   "metadata": {
    "execution": {
     "iopub.execute_input": "2024-11-20T20:10:39.239096Z",
     "iopub.status.busy": "2024-11-20T20:10:39.238779Z",
     "iopub.status.idle": "2024-11-20T20:10:40.122058Z",
     "shell.execute_reply": "2024-11-20T20:10:40.121251Z"
    },
    "papermill": {
     "duration": 0.892666,
     "end_time": "2024-11-20T20:10:40.124044",
     "exception": false,
     "start_time": "2024-11-20T20:10:39.231378",
     "status": "completed"
    },
    "tags": []
   },
   "outputs": [
    {
     "data": {
      "image/png": "[encoded data removed]",
      "text/plain": [
       "<Figure size 640x480 with 6 Axes>"
      ]
     },
     "metadata": {},
     "output_type": "display_data"
    }
   ],
   "source": [
    "# Display some error results \n",
    "\n",
    "# Errors are difference between predicted labels and true labels\n",
    "errors = (Y_pred_classes - Y_true != 0)\n",
    "\n",
    "Y_pred_classes_errors = Y_pred_classes[errors]\n",
    "Y_pred_errors = Y_pred[errors]\n",
    "Y_true_errors = Y_true[errors]\n",
    "X_val_errors = X_val[errors]\n",
    "\n",
    "def display_errors(errors_index,img_errors,pred_errors, obs_errors):\n",
    "    \"\"\" This function shows 6 images with their predicted and real labels\"\"\"\n",
    "    n = 0\n",
    "    nrows = 2\n",
    "    ncols = 3\n",
    "    fig, ax = plt.subplots(nrows,ncols,sharex=True,sharey=True)\n",
    "    for row in range(nrows):\n",
    "        for col in range(ncols):\n",
    "            error = errors_index[n]\n",
    "            ax[row,col].imshow((img_errors[error]).reshape((28,28)))\n",
    "            ax[row,col].set_title(\"Predicted label :{}\\nTrue label :{}\".format(pred_errors[error],obs_errors[error]))\n",
    "            n += 1\n",
    "\n",
    "# Probabilities of the wrong predicted numbers\n",
    "Y_pred_errors_prob = np.max(Y_pred_errors,axis = 1)\n",
    "\n",
    "# Predicted probabilities of the true values in the error set\n",
    "true_prob_errors = np.diagonal(np.take(Y_pred_errors, Y_true_errors, axis=1))\n",
    "\n",
    "# Difference between the probability of the predicted label and the true label\n",
    "delta_pred_true_errors = Y_pred_errors_prob - true_prob_errors\n",
    "\n",
    "# Sorted list of the delta prob errors\n",
    "sorted_dela_errors = np.argsort(delta_pred_true_errors)\n",
    "\n",
    "# Top 6 errors \n",
    "most_important_errors = sorted_dela_errors[-6:]\n",
    "\n",
    "# Show the top 6 errors\n",
    "display_errors(most_important_errors, X_val_errors, Y_pred_classes_errors, Y_true_errors)"
   ]
  },
  {
   "cell_type": "code",
   "execution_count": 22,
   "id": "34bcb67d",
   "metadata": {
    "execution": {
     "iopub.execute_input": "2024-11-20T20:10:40.138647Z",
     "iopub.status.busy": "2024-11-20T20:10:40.138367Z",
     "iopub.status.idle": "2024-11-20T20:10:42.045056Z",
     "shell.execute_reply": "2024-11-20T20:10:42.044292Z"
    },
    "papermill": {
     "duration": 1.916354,
     "end_time": "2024-11-20T20:10:42.047256",
     "exception": false,
     "start_time": "2024-11-20T20:10:40.130902",
     "status": "completed"
    },
    "tags": []
   },
   "outputs": [
    {
     "name": "stdout",
     "output_type": "stream",
     "text": [
      "\u001b[1m875/875\u001b[0m \u001b[32m━━━━━━━━━━━━━━━━━━━━\u001b[0m\u001b[37m\u001b[0m \u001b[1m1s\u001b[0m 1ms/step\n"
     ]
    }
   ],
   "source": [
    "# predict results\n",
    "results = model.predict(test)\n",
    "\n",
    "# select the indix with the maximum probability\n",
    "results = np.argmax(results,axis = 1)\n",
    "\n",
    "results = pd.Series(results,name=\"Label\")"
   ]
  },
  {
   "cell_type": "code",
   "execution_count": 23,
   "id": "69ee17c8",
   "metadata": {
    "execution": {
     "iopub.execute_input": "2024-11-20T20:10:42.065500Z",
     "iopub.status.busy": "2024-11-20T20:10:42.065208Z",
     "iopub.status.idle": "2024-11-20T20:10:42.090892Z",
     "shell.execute_reply": "2024-11-20T20:10:42.090231Z"
    },
    "papermill": {
     "duration": 0.036422,
     "end_time": "2024-11-20T20:10:42.092665",
     "exception": false,
     "start_time": "2024-11-20T20:10:42.056243",
     "status": "completed"
    },
    "tags": []
   },
   "outputs": [],
   "source": [
    "submission = pd.concat([pd.Series(range(1,28001),name = \"ImageId\"),results],axis = 1)\n",
    "\n",
    "submission.to_csv(\"cnn_mnist_datagen.csv\",index=False)"
   ]
  }
 ],
 "metadata": {
  "kaggle": {
   "accelerator": "none",
   "dataSources": [
    {
     "datasetId": 6130501,
     "sourceId": 9965768,
     "sourceType": "datasetVersion"
    }
   ],
   "dockerImageVersionId": 30786,
   "isGpuEnabled": false,
   "isInternetEnabled": true,
   "language": "python",
   "sourceType": "notebook"
  },
  "kernelspec": {
   "display_name": "Python 3",
   "language": "python",
   "name": "python3"
  },
  "language_info": {
   "codemirror_mode": {
    "name": "ipython",
    "version": 3
   },
   "file_extension": ".py",
   "mimetype": "text/x-python",
   "name": "python",
   "nbconvert_exporter": "python",
   "pygments_lexer": "ipython3",
   "version": "3.10.14"
  },
  "papermill": {
   "default_parameters": {},
   "duration": 51.478993,
   "end_time": "2024-11-20T20:10:44.023927",
   "environment_variables": {},
   "exception": null,
   "input_path": "__notebook__.ipynb",
   "output_path": "__notebook__.ipynb",
   "parameters": {},
   "start_time": "2024-11-20T20:09:52.544934",
   "version": "2.6.0"
  }
 },
 "nbformat": 4,
 "nbformat_minor": 5
}
